{
 "cells": [
  {
   "cell_type": "code",
   "execution_count": 10,
   "metadata": {},
   "outputs": [],
   "source": [
    "import cv2\n",
    "import imutils\n",
    "import numpy as np\n",
    "image = cv2.imread(\"simpsons_frame0.png\")\n",
    "image = imutils.resize(image, width=1000)\n",
    "overlay = image.copy()\n",
    "output = image.copy()\n",
    "cv2.rectangle(overlay, (105, 90), (910, 455),(0, 0, 255), -1)\n",
    "cv2.addWeighted(overlay, 0.5, output, 0.5,0, output)\n",
    "cv2.imshow(\"Overlay\",output)\n",
    "cv2.waitKey(0)\n",
    "cv2.destroyAllWindows()"
   ]
  },
  {
   "cell_type": "code",
   "execution_count": 11,
   "metadata": {},
   "outputs": [],
   "source": [
    "mask = np.zeros(image.shape[:2],dtype=\"uint8\")\n",
    "cv2.rectangle(mask, (105,90),(910,455),255,-1)\n",
    "cv2.imshow(\"Mask for Text\",mask)\n",
    "cv2.waitKey(0)\n",
    "cv2.destroyAllWindows()\n",
    "\n",
    "masked = cv2.bitwise_or(image,image,mask=mask)\n",
    "cv2.imshow(\"Applied First Level Masked Applied Image\",masked)\n",
    "cv2.waitKey(0)\n",
    "cv2.destroyAllWindows()\n",
    "\n",
    "mask2 = cv2.bitwise_not(mask)\n",
    "cv2.imshow(\"Mask for Background\",mask2)\n",
    "cv2.waitKey(0)\n",
    "cv2.destroyAllWindows()\n",
    "\n",
    "\n",
    "masked = cv2.bitwise_not(masked,masked,mask=mask2)\n",
    "cv2.imshow(\"Final Masking Applied on Image\",masked)\n",
    "cv2.waitKey(0)\n",
    "cv2.destroyAllWindows()"
   ]
  },
  {
   "cell_type": "code",
   "execution_count": null,
   "metadata": {},
   "outputs": [],
   "source": []
  },
  {
   "cell_type": "code",
   "execution_count": null,
   "metadata": {},
   "outputs": [],
   "source": []
  }
 ],
 "metadata": {
  "kernelspec": {
   "display_name": "Python 3",
   "language": "python",
   "name": "python3"
  },
  "language_info": {
   "codemirror_mode": {
    "name": "ipython",
    "version": 3
   },
   "file_extension": ".py",
   "mimetype": "text/x-python",
   "name": "python",
   "nbconvert_exporter": "python",
   "pygments_lexer": "ipython3",
   "version": "3.6.10"
  }
 },
 "nbformat": 4,
 "nbformat_minor": 4
}
